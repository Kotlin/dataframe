{
 "cells": [
  {
   "metadata": {},
   "cell_type": "markdown",
   "source": [
    "## DuckDB and dataframe-jdbc\n",
    "\n",
    "[DuckDB](https://duckdb.org/), for now, is an officially unsupported JDBC source for DataFrame.\n",
    "However, a source being officially unsupported does not mean that it is not possible to use it with DataFrame :).\n",
    "\n",
    "For DuckDB, we actually have two ways to support it:\n",
    "\n",
    "The first one is to use `dataframe-arrow`, as DuckDB has a [bridge to Arrow](https://duckdb.org/docs/stable/clients/java.html#arrow-methods). [Click here for en example of how to do it](https://github.com/Kotlin/dataframe/blob/62b48942b1aef35f939f2d0aff407872028fd177/dataframe-arrow/src/test/kotlin/org/jetbrains/kotlinx/dataframe/io/ArrowKtTest.kt#L637). This might work for you, but it is less flexible, as you're forced to use Arrow types.\n",
    "\n",
    "The second way, which we will show here, is to use `dataframe-jdbc`, as DuckDB has a [JDBC driver](https://duckdb.org/docs/stable/clients/java.html) too.\n",
    "This is a more direct approach and shows how you can add other JDBC sources as well, so without any further ado, let's get started!"
   ],
   "id": "42ad4cd75ea13ecc"
  },
  {
   "metadata": {},
   "cell_type": "markdown",
   "source": "We're adding the DuckDB dependency before adding DataFrame to make sure classloading works well",
   "id": "e81da20f4b3ff48d"
  },
  {
   "metadata": {
    "ExecuteTime": {
     "end_time": "2025-06-23T18:55:20.141130549Z",
     "start_time": "2025-06-23T18:55:19.208375331Z"
    }
   },
   "cell_type": "code",
   "source": [
    "USE {\n",
    "    dependencies {\n",
    "        implementation(group = \"org.duckdb\", artifact = \"duckdb_jdbc\", version = \"1.2.2.0\")\n",
    "    }\n",
    "}"
   ],
   "id": "5d8f65b1a0a8072f",
   "outputs": [],
   "execution_count": 9
  },
  {
   "metadata": {},
   "cell_type": "markdown",
   "source": "And to make sure we use the latest version of DataFrame, we'll use the `%useLatestDescriptors` magic.",
   "id": "28b92864a3ddd581"
  },
  {
   "metadata": {
    "ExecuteTime": {
     "end_time": "2025-06-23T18:55:25.328754491Z",
     "start_time": "2025-06-23T18:55:22.691645070Z"
    }
   },
   "cell_type": "code",
   "source": [
    "%useLatestDescriptors\n",
    "%use dataframe"
   ],
   "id": "bb5c30ea2bcb95a3",
   "outputs": [],
   "execution_count": 10
  },
  {
   "metadata": {},
   "cell_type": "markdown",
   "source": [
    "Following the [custom JDBC database documentation](https://kotlin.github.io/dataframe/readsqlfromcustomdatabase.html), it seems we need to create our own `DbType` object.\n",
    "\n",
    "We will skip the `convertSqlTypeToKType` and `convertSqlTypeToColumnSchemaValue` functions for now. Let's see how the defaults fare."
   ],
   "id": "76d0fe4599c19aab"
  },
  {
   "metadata": {
    "ExecuteTime": {
     "end_time": "2025-06-23T19:04:18.136747799Z",
     "start_time": "2025-06-23T19:04:17.720966063Z"
    }
   },
   "cell_type": "code",
   "source": [
    "import org.jetbrains.kotlinx.dataframe.io.db.DbType\n",
    "import org.jetbrains.kotlinx.dataframe.io.getSchemaForAllSqlTables\n",
    "import org.jetbrains.kotlinx.dataframe.io.readAllSqlTables\n",
    "import org.jetbrains.kotlinx.dataframe.schema.ColumnSchema\n",
    "import java.sql.ResultSet\n",
    "import kotlin.reflect.KType\n",
    "\n",
    "object DuckDb1 : DbType(\"duckdb\") {\n",
    "\n",
    "    /** the name of the class of the DuckDB JDBC driver */\n",
    "    override val driverClassName = \"org.duckdb.DuckDBDriver\"\n",
    "\n",
    "    /**\n",
    "     * TODO\n",
    "     * How a column type from JDBC, [tableColumnMetadata], is read in Java/Kotlin.\n",
    "     * The returned type must exactly follow [ResultSet.getObject] of your specific database's JDBC driver.\n",
    "     * Returning `null` defer the implementation to the default one (which may not always be correct).\n",
    "     */\n",
    "    override fun convertSqlTypeToKType(tableColumnMetadata: TableColumnMetadata): KType? = null\n",
    "\n",
    "    /**\n",
    "     * TODO\n",
    "     * How a column from JDBC should be represented as DataFrame (value) column\n",
    "     * See [convertSqlTypeToKType].\n",
    "     */\n",
    "    override fun convertSqlTypeToColumnSchemaValue(tableColumnMetadata: TableColumnMetadata): ColumnSchema? = null\n",
    "\n",
    "    /** How to filter out system tables from user-created ones when using [DataFrame.readAllSqlTables] and [DataFrame.getSchemaForAllSqlTables]. */\n",
    "    override fun isSystemTable(tableMetadata: TableMetadata): Boolean =\n",
    "        tableMetadata.schemaName?.lowercase()?.contains(\"information_schema\") == true ||\n",
    "            tableMetadata.schemaName?.lowercase()?.contains(\"system\") == true ||\n",
    "            tableMetadata.name.lowercase().contains(\"system_\")\n",
    "\n",
    "    /** How to retrieve the correct table metadata when using [DataFrame.readAllSqlTables] and [DataFrame.getSchemaForAllSqlTables]. */\n",
    "    override fun buildTableMetadata(tables: ResultSet): TableMetadata =\n",
    "        TableMetadata(\n",
    "            name = tables.getString(\"TABLE_NAME\"),\n",
    "            schemaName = tables.getString(\"TABLE_SCHEM\"),\n",
    "            catalogue = tables.getString(\"TABLE_CAT\"),\n",
    "        )\n",
    "}"
   ],
   "id": "3d816ede77e0d894",
   "outputs": [],
   "execution_count": 11
  },
  {
   "metadata": {},
   "cell_type": "markdown",
   "source": "",
   "id": "67fba32f59a13ac2"
  },
  {
   "metadata": {
    "ExecuteTime": {
     "end_time": "2025-06-23T19:04:23.553883160Z",
     "start_time": "2025-06-23T19:04:23.478867382Z"
    }
   },
   "cell_type": "code",
   "source": "val URL = \"jdbc:duckdb:\"",
   "id": "7e92a0f40e825123",
   "outputs": [],
   "execution_count": 12
  },
  {
   "metadata": {
    "ExecuteTime": {
     "end_time": "2025-06-23T16:49:14.911662903Z",
     "start_time": "2025-06-23T16:49:13.240675611Z"
    }
   },
   "cell_type": "code",
   "source": [
    "import java.sql.DriverManager\n",
    "\n",
    "DriverManager.getConnection(URL).use { connection ->\n",
    "    connection.prepareStatement(\n",
    "        \"\"\"\n",
    "        CREATE TABLE IF NOT EXISTS test_table (\n",
    "            id INTEGER PRIMARY KEY,\n",
    "            name VARCHAR,\n",
    "            age INTEGER,\n",
    "            salary DOUBLE,\n",
    "            hire_date DATE\n",
    "        )\n",
    "        \"\"\".trimIndent(),\n",
    "    ).executeUpdate()\n",
    "\n",
    "    connection.prepareStatement(\n",
    "        \"\"\"\n",
    "        INSERT INTO test_table (id, name, age, salary, hire_date)\n",
    "        VALUES\n",
    "            (1, 'John Doe', 30, 50000.00, '2020-01-15'),\n",
    "            (2, 'Jane Smith', 28, 55000.00, '2021-03-20'),\n",
    "            (3, 'Bob Johnson', 35, 65000.00, '2019-11-10'),\n",
    "            (4, 'Alice Brown', 32, 60000.00, '2020-07-01')\n",
    "        \"\"\".trimIndent(),\n",
    "    ).executeUpdate()\n",
    "\n",
    "    DataFrame.readAllSqlTables(connection, dbType = DuckDb1)\n",
    "//    DataFrame.readSqlTable(connection, \"test_table\", dbType = DuckDb1)\n",
    "}"
   ],
   "id": "6490ad9f55286616",
   "outputs": [
    {
     "data": {
      "text/plain": [
       "{}"
      ]
     },
     "execution_count": 5,
     "metadata": {},
     "output_type": "execute_result"
    }
   ],
   "execution_count": 5
  },
  {
   "metadata": {
    "ExecuteTime": {
     "end_time": "2025-06-23T16:49:15.391169634Z",
     "start_time": "2025-06-23T16:49:15.069501540Z"
    }
   },
   "cell_type": "code",
   "source": [
    "val config = DbConnectionConfig(URL)\n",
    "\n",
    "DataFrame.readAllSqlTables(config, dbType = DuckDb1)"
   ],
   "id": "e88725836ddb7092",
   "outputs": [
    {
     "data": {
      "text/plain": [
       "{}"
      ]
     },
     "execution_count": 6,
     "metadata": {},
     "output_type": "execute_result"
    }
   ],
   "execution_count": 6
  },
  {
   "metadata": {
    "ExecuteTime": {
     "end_time": "2025-06-23T16:49:16.232195327Z",
     "start_time": "2025-06-23T16:49:16.200216207Z"
    }
   },
   "cell_type": "code",
   "source": "",
   "id": "d49ceb5c4988bd98",
   "outputs": [],
   "execution_count": null
  }
 ],
 "metadata": {
  "kernelspec": {
   "display_name": "Kotlin",
   "language": "kotlin",
   "name": "kotlin"
  },
  "language_info": {
   "codemirror_mode": "text/x-kotlin",
   "file_extension": ".kt",
   "mimetype": "text/x-kotlin",
   "name": "kotlin",
   "nbconvert_exporter": "",
   "pygments_lexer": "kotlin",
   "version": "1.8.20-Beta"
  },
  "ktnbPluginMetadata": {
   "projectLibraries": []
  }
 },
 "nbformat": 4,
 "nbformat_minor": 5
}
