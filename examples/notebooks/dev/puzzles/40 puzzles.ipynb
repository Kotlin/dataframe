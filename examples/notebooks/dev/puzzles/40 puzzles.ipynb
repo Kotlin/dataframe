{
 "cells": [
  {
   "metadata": {},
   "cell_type": "markdown",
   "source": [
    "# 40 kotlin-dataframe puzzles\n",
    "inspired by [100 pandas puzzles](https://github.com/ajcr/100-pandas-puzzles)"
   ]
  },
  {
   "metadata": {},
   "cell_type": "markdown",
   "source": [
    "## Importing kotlin-dataframe\n",
    "### Getting started\n",
    "Difficulty: easy\n",
    "\n",
    "**1.** Import kotlin-dataframe"
   ]
  },
  {
   "metadata": {},
   "cell_type": "code",
   "outputs": [],
   "execution_count": null,
   "source": "%use dataframe"
  },
  {
   "metadata": {},
   "cell_type": "markdown",
   "source": [
    "## DataFrame Basics\n",
    "### A few of the fundamental routines for selecting, sorting, adding and aggregating data in DataFrames\n",
    "Difficulty: easy\n",
    "\n",
    "Consider the following columns:\n",
    "```[kotlin]\n",
    "val animal by columnOf(\"cat\", \"cat\", \"snake\", \"dog\", \"dog\", \"cat\", \"snake\", \"cat\", \"dog\", \"dog\")\n",
    "val age by columnOf(2.5, 3.0, 0.5, Double.NaN, 5.0, 2.0, 4.5, Double.NaN, 7, 3)\n",
    "val visits by columnOf(1, 3, 2, 3, 2, 3, 1, 1, 2, 1)\n",
    "val priority by columnOf(\"yes\", \"yes\", \"no\", \"yes\", \"no\", \"no\", \"no\", \"yes\", \"no\", \"no\")\n",
    "```\n",
    "**2.** Create a DataFrame df from this columns."
   ]
  },
  {
   "metadata": {},
   "cell_type": "code",
   "outputs": [],
   "execution_count": null,
   "source": [
    "val animal by columnOf(\"cat\", \"cat\", \"snake\", \"dog\", \"dog\", \"cat\", \"snake\", \"cat\", \"dog\", \"dog\")\n",
    "val age by columnOf(2.5, 3.0, 0.5, Double.NaN, 5.0, 2.0, 4.5, Double.NaN, 7.0, 3.0)\n",
    "val visits by columnOf(1, 3, 2, 3, 2, 3, 1, 1, 2, 1)\n",
    "val priority by columnOf(\"yes\", \"yes\", \"no\", \"yes\", \"no\", \"no\", \"no\", \"yes\", \"no\", \"no\")\n",
    "\n",
    "val df = dataFrameOf(animal, age, visits, priority)\n",
    "df"
   ]
  },
  {
   "metadata": {},
   "cell_type": "markdown",
   "source": "**3.** Display a summary of the basic information about this DataFrame and its data."
  },
  {
   "metadata": {},
   "cell_type": "code",
   "outputs": [],
   "execution_count": null,
   "source": "df.schema()"
  },
  {
   "metadata": {},
   "cell_type": "code",
   "outputs": [],
   "execution_count": null,
   "source": "df.describe()"
  },
  {
   "metadata": {},
   "cell_type": "markdown",
   "source": "**4.** Return the first 3 rows of the DataFrame df."
  },
  {
   "metadata": {},
   "cell_type": "code",
   "outputs": [],
   "execution_count": null,
   "source": [
    "df[0 ..< 3] // df[0..2]\n",
    "\n",
    "// or equivalently\n",
    "\n",
    "df.head(3)\n",
    "\n",
    "// or\n",
    "\n",
    "df.take(3)"
   ]
  },
  {
   "metadata": {},
   "cell_type": "markdown",
   "source": "**5.** Select \"animal\" and \"age\" columns from the DataFrame df."
  },
  {
   "metadata": {},
   "cell_type": "code",
   "outputs": [],
   "execution_count": null,
   "source": "df[animal, age]"
  },
  {
   "metadata": {},
   "cell_type": "markdown",
   "source": "**6.** Select the data in rows [3, 4, 8] and in columns [\"animal\", \"age\"]."
  },
  {
   "metadata": {},
   "cell_type": "code",
   "outputs": [],
   "execution_count": null,
   "source": "df[3, 4, 8][animal, age]"
  },
  {
   "metadata": {},
   "cell_type": "markdown",
   "source": "**7.** Select only the rows where the number of visits is grater than 2."
  },
  {
   "metadata": {},
   "cell_type": "code",
   "outputs": [],
   "execution_count": null,
   "source": "df.filter { visits > 2 }"
  },
  {
   "metadata": {},
   "cell_type": "markdown",
   "source": "**8.** Select the rows where the age is missing, i.e. it is NaN."
  },
  {
   "metadata": {},
   "cell_type": "code",
   "outputs": [],
   "execution_count": null,
   "source": "df.filter { age.isNaN() }"
  },
  {
   "metadata": {},
   "cell_type": "markdown",
   "source": "N**9.** Select the rows where the animal is a cat and the age is less than 3."
  },
  {
   "metadata": {},
   "cell_type": "code",
   "outputs": [],
   "execution_count": null,
   "source": "df.filter { animal == \"cat\" && age < 3 }"
  },
  {
   "metadata": {},
   "cell_type": "markdown",
   "source": "**10.** Select the rows where age is between 2 and 4 (inclusive)."
  },
  {
   "metadata": {},
   "cell_type": "code",
   "outputs": [],
   "execution_count": null,
   "source": "df.filter { age in 2.0..4.0 }"
  },
  {
   "metadata": {},
   "cell_type": "markdown",
   "source": "**11.** Change tha age in row 5 to 1.5"
  },
  {
   "metadata": {},
   "cell_type": "code",
   "outputs": [],
   "execution_count": null,
   "source": "df.update { age }.at(5).with { 1.5 }"
  },
  {
   "metadata": {},
   "cell_type": "markdown",
   "source": "**12.** Calculate the sum of all visits in df (i.e. the total number of visits)."
  },
  {
   "metadata": {},
   "cell_type": "code",
   "outputs": [],
   "execution_count": null,
   "source": "df.visits.sum()"
  },
  {
   "metadata": {},
   "cell_type": "markdown",
   "source": "**13.** Calculate the mean age for each different animal in df."
  },
  {
   "metadata": {},
   "cell_type": "code",
   "outputs": [],
   "execution_count": null,
   "source": "df.groupBy { animal }.mean { age }"
  },
  {
   "metadata": {},
   "cell_type": "markdown",
   "source": "**14.** Append a new row to df with your choice of values for each column. Then delete that row to return the original DataFrame."
  },
  {
   "metadata": {},
   "cell_type": "code",
   "outputs": [],
   "execution_count": null,
   "source": [
    "val modifiedDf = df.append(\"dog\", 5.5, 2, \"no\")\n",
    "modifiedDf.dropLast()"
   ]
  },
  {
   "metadata": {},
   "cell_type": "markdown",
   "source": "**15.** Count the number of each type of animal in df."
  },
  {
   "metadata": {},
   "cell_type": "code",
   "outputs": [],
   "execution_count": null,
   "source": "df.groupBy { animal }.count()"
  },
  {
   "metadata": {},
   "cell_type": "markdown",
   "source": "**16.** Sort df first by the values in the 'age' in descending order, then by the value in the 'visits' column in ascending order."
  },
  {
   "metadata": {},
   "cell_type": "code",
   "outputs": [],
   "execution_count": null,
   "source": "df.sortBy { age.desc() and visits }"
  },
  {
   "metadata": {},
   "cell_type": "markdown",
   "source": "**17.** The 'priority' column contains the values 'yes' and 'no'. Replace this column with a column of boolean values: 'yes' should be True and 'no' should be False."
  },
  {
   "metadata": {},
   "cell_type": "code",
   "outputs": [],
   "execution_count": null,
   "source": "df.convert { priority }.with { it == \"yes\" }"
  },
  {
   "metadata": {},
   "cell_type": "markdown",
   "source": "**18.** In the 'animal' column, change the 'dog' entries to 'corgi'."
  },
  {
   "metadata": {},
   "cell_type": "code",
   "outputs": [],
   "execution_count": null,
   "source": "df.update { animal }.where { it == \"dog\" }.with { \"corgi\" }"
  },
  {
   "metadata": {},
   "cell_type": "markdown",
   "source": "**19.** For each animal type and each number of visits, find the mean age. In other words, each row is an animal, each column is a number of visits and the values are the mean ages."
  },
  {
   "metadata": {},
   "cell_type": "code",
   "outputs": [],
   "execution_count": null,
   "source": "df.pivot { visits }.groupBy { animal }.mean(skipNA = true) { age }"
  },
  {
   "metadata": {},
   "cell_type": "markdown",
   "source": [
    "## DataFrame: beyond the basics\n",
    "### Slightly trickier: you may need to combine two or more methods to get the right answer\n",
    "Difficulty: medium\n",
    "\n",
    "The previous section was tour through some basic but essential DataFrame operations. Below are some ways that you might need to cut your data, but for which there is no single \"out of the box\" method."
   ]
  },
  {
   "metadata": {},
   "cell_type": "markdown",
   "source": [
    "**20.** You have a DataFrame df with a column 'A' of integers. For example:\n",
    "```kotlin\n",
    "val df = dataFrameOf(\"A\")(1, 2, 2, 3, 4, 5, 5, 5, 6, 7, 7)\n",
    "```\n",
    "How do you filter out rows which contain the same integer as the row immediately above?\n",
    "\n",
    "You should be left with a column containing the following values:\n",
    "```\n",
    "1, 2, 3, 4, 5, 6, 7\n",
    "```"
   ]
  },
  {
   "metadata": {},
   "cell_type": "code",
   "outputs": [],
   "execution_count": null,
   "source": [
    "val df = dataFrameOf(\"A\")(1, 2, 2, 3, 4, 5, 5, 5, 6, 7, 7)\n",
    "df"
   ]
  },
  {
   "metadata": {},
   "cell_type": "code",
   "outputs": [],
   "execution_count": null,
   "source": "df.filter { prev()?.A != A }"
  },
  {
   "metadata": {},
   "cell_type": "code",
   "outputs": [],
   "execution_count": null,
   "source": "df.filter { diffOrNull { A } != 0 }"
  },
  {
   "metadata": {},
   "cell_type": "markdown",
   "source": "We could use `distinct()` here but it won't work as desired if A is [1, 1, 2, 2, 1, 1] for example."
  },
  {
   "metadata": {},
   "cell_type": "code",
   "outputs": [],
   "execution_count": null,
   "source": "df.distinct()"
  },
  {
   "metadata": {},
   "cell_type": "markdown",
   "source": [
    "**21.** Given a DataFrame of random numetic values:\n",
    "```kotlin\n",
    "val df = dataFrameOf(\"a\", \"b\", \"c\").randomDouble(5) // this is a 5x3 DataFrame of double values\n",
    "```\n",
    "\n",
    "how do you subtract the row mean from each element in the row?"
   ]
  },
  {
   "metadata": {},
   "cell_type": "code",
   "outputs": [],
   "execution_count": null,
   "source": [
    "val df = dataFrameOf(\"a\", \"b\", \"c\").randomDouble(5)\n",
    "df"
   ]
  },
  {
   "metadata": {},
   "cell_type": "code",
   "outputs": [],
   "execution_count": null,
   "source": [
    "df.update { colsOf<Double>() }\n",
    "    .with { it - rowMean() }"
   ]
  },
  {
   "metadata": {},
   "cell_type": "markdown",
   "source": [
    "**22.** Suppose you have DataFrame with 10 columns of real numbers, for example:\n",
    "```kotlin\n",
    "val names = ('a'..'j').map { it.toString() }\n",
    "val df = dataFrameOf(names).randomDouble(5)\n",
    "```\n",
    "\n",
    "Which column of number has the smallest sum? Return that column's label."
   ]
  },
  {
   "metadata": {},
   "cell_type": "code",
   "outputs": [],
   "execution_count": null,
   "source": [
    "val names = ('a'..'j').map { it.toString() }\n",
    "val df = dataFrameOf(names).randomDouble(5)\n",
    "df"
   ]
  },
  {
   "metadata": {},
   "cell_type": "code",
   "outputs": [],
   "execution_count": null,
   "source": "df.sum().transpose().minBy(\"value\")[\"name\"]"
  },
  {
   "metadata": {},
   "cell_type": "markdown",
   "source": "**23.** How do you count how many unique rows a DataFrame has (i.e. ignore all rows that are duplicates)?"
  },
  {
   "metadata": {},
   "cell_type": "code",
   "outputs": [],
   "execution_count": null,
   "source": [
    "val df = dataFrameOf(\"a\", \"b\", \"c\").randomInt(30, 0..2)\n",
    "df.distinct().count()"
   ]
  },
  {
   "metadata": {},
   "cell_type": "markdown",
   "source": [
    "**24.** In the cell below, you have a DataFrame `df` that consists of 10 columns of floating-point numbers. Exactly 5 entries in each row are NaN values.\n",
    "\n",
    "For each row of the DataFrame, find the *column* which contains the *third* NaN value.\n",
    "\n",
    "You should return a column of column labels: `e, c, d, h, d`"
   ]
  },
  {
   "metadata": {},
   "cell_type": "code",
   "outputs": [],
   "execution_count": null,
   "source": [
    "val nan = Double.NaN\n",
    "val names = ('a'..'j').map { it.toString() }\n",
    "val data = listOf(\n",
    "    0.04, nan, nan,  0.25, nan,  0.43, 0.71, 0.51, nan,  nan,\n",
    "    nan,  nan, nan,  0.04, 0.76, nan,  nan,  0.67, 0.76, 0.16,\n",
    "    nan,  nan, 0.5,  nan,  0.31, 0.4,  nan,  nan,  0.24, 0.01,\n",
    "    0.49, nan, nan,  0.62, 0.73, 0.26, 0.85, nan,  nan,  nan,\n",
    "    nan,  nan, 0.41, nan,  0.05, nan,  0.61, nan,  0.48, 0.68,\n",
    ")\n",
    "val df = dataFrameOf(names)(*data.toTypedArray())\n",
    "df"
   ]
  },
  {
   "metadata": {},
   "cell_type": "code",
   "outputs": [],
   "execution_count": null,
   "source": [
    "df.mapToColumn(\"res\") { \n",
    "    namedValuesOf<Double>()\n",
    "        .filter { it.value.isNaN() }.drop(2)\n",
    "        .firstOrNull()?.name \n",
    "}"
   ]
  },
  {
   "metadata": {},
   "cell_type": "markdown",
   "source": [
    "**25.** A DataFrame has a column of groups 'grps' and and column of integer values 'vals':\n",
    "```kotlin\n",
    "val grps by column(\"a\", \"a\", \"a\", \"b\", \"b\", \"c\", \"a\", \"a\", \"b\", \"c\", \"c\", \"c\", \"b\", \"b\", \"c\")\n",
    "val vals by column(12, 345, 3, 1, 45, 14, 4, 52, 54, 23, 235, 21, 57, 3, 87)\n",
    "\n",
    "val df = dataFrameOf(grps, vals)\n",
    "```\n",
    "\n",
    "For each group, find the sum of the three greatest values. You should end up with the answer as follows:\n",
    "```\n",
    "grps\n",
    "a    409\n",
    "b    156\n",
    "c    345\n",
    "```"
   ]
  },
  {
   "metadata": {},
   "cell_type": "code",
   "outputs": [],
   "execution_count": null,
   "source": [
    "val grps by columnOf(\"a\", \"a\", \"a\", \"b\", \"b\", \"c\", \"a\", \"a\", \"b\", \"c\", \"c\", \"c\", \"b\", \"b\", \"c\")\n",
    "val vals by columnOf(12, 345, 3, 1, 45, 14, 4, 52, 54, 23, 235, 21, 57, 3, 87)\n",
    "\n",
    "val df = dataFrameOf(grps, vals)\n",
    "df"
   ]
  },
  {
   "metadata": {},
   "cell_type": "code",
   "outputs": [],
   "execution_count": null,
   "source": [
    "df.groupBy { grps }.aggregate { \n",
    "    vals.sortDesc().take(3).sum() into \"res\"\n",
    "}"
   ]
  },
  {
   "metadata": {},
   "cell_type": "markdown",
   "source": [
    "**26.** The DataFrame `df` constructed below has two integer columns 'A' and 'B'. The values in 'A' are between 1 and 100 (inclusive).\n",
    "\n",
    "For each group of 10 consecutive integers in 'A' (i.e. `(0, 10]`, `(10, 20]`, ...), calculate the sum of the corresponding values in column 'B'.\n",
    "\n",
    "The answer as follows:\n",
    "\n",
    "```\n",
    "A\n",
    "(0, 10]      635\n",
    "(10, 20]     360\n",
    "(20, 30]     315\n",
    "(30, 40]     306\n",
    "(40, 50]     750\n",
    "(50, 60]     284\n",
    "(60, 70]     424\n",
    "(70, 80]     526\n",
    "(80, 90]     835\n",
    "(90, 100]    852\n",
    "```"
   ]
  },
  {
   "metadata": {},
   "cell_type": "code",
   "outputs": [],
   "execution_count": null,
   "source": [
    "import kotlin.random.Random\n",
    "\n",
    "val random = Random(42)\n",
    "val list = List(200) { random.nextInt(1, 101) }\n",
    "val df = dataFrameOf(\"A\", \"B\")(*list.toTypedArray())\n",
    "df"
   ]
  },
  {
   "metadata": {},
   "cell_type": "code",
   "outputs": [],
   "execution_count": null,
   "source": [
    "df.groupBy { A.map { (it - 1) / 10 } }.sum { B }\n",
    "    .sortBy { A }\n",
    "    .convert { A }.with { \"(${it * 10}, ${it * 10 + 10}]\" }"
   ]
  },
  {
   "metadata": {},
   "cell_type": "markdown",
   "source": [
    "## DataFrames: harder problems\n",
    "\n",
    "### These might require a bit of thinking outside the box...\n",
    "\n",
    "Difficulty: hard"
   ]
  },
  {
   "metadata": {},
   "cell_type": "markdown",
   "source": [
    "**27.** Consider a DataFrame `df` where there is an integer column 'X':\n",
    "```kotlin\n",
    "val df = dataFrameOf(\"X\")(7, 2, 0, 3, 4, 2, 5, 0, 3 , 4)\n",
    "```\n",
    "For each value, count the difference back to the previous zero (or the start of the column, whichever is closer). These values should therefore be\n",
    "\n",
    "```\n",
    "[1, 2, 0, 1, 2, 3, 4, 0, 1, 2]\n",
    "```\n",
    "\n",
    "Make this a new column 'Y'."
   ]
  },
  {
   "metadata": {},
   "cell_type": "code",
   "outputs": [],
   "execution_count": null,
   "source": [
    "val df = dataFrameOf(\"X\")(7, 2, 0, 3, 4, 2, 5, 0, 3, 4)\n",
    "df"
   ]
  },
  {
   "metadata": {},
   "cell_type": "code",
   "outputs": [],
   "execution_count": null,
   "source": [
    "df.mapToColumn(\"Y\") {\n",
    "    if (it.X == 0) 0 else (prev()?.newValue() ?: 0) + 1\n",
    "}"
   ]
  },
  {
   "metadata": {},
   "cell_type": "markdown",
   "source": [
    "**28.** Consider the DataFrame constructed below which contains rows and columns of numerical data.\n",
    "\n",
    "Create a list of the column-row index locations of the 3 largest values in this DataFrame. In thi case, the answer should be:\n",
    "```\n",
    "[(0, d), (2, c), (3, f)]\n",
    "```"
   ]
  },
  {
   "metadata": {},
   "cell_type": "code",
   "outputs": [],
   "execution_count": null,
   "source": [
    "val names = ('a'..'h').map { it.toString() } // val names = (0..7).map { it.toString() }\n",
    "val random = Random(30)\n",
    "val list = List(64) { random.nextInt(1, 101) }\n",
    "val df = dataFrameOf(names)(*list.toTypedArray())\n",
    "df"
   ]
  },
  {
   "metadata": {},
   "cell_type": "code",
   "outputs": [],
   "execution_count": null,
   "source": [
    "df.add(\"index\") { index() }\n",
    "    .gather { dropLast() }.into(\"name\", \"vals\")\n",
    "    .sortByDesc(\"vals\").take(3)[\"index\", \"name\"]"
   ]
  },
  {
   "metadata": {},
   "cell_type": "markdown",
   "source": [
    "**29.** You are given the DataFrame below with a column of group IDs, 'grps', and a column of corresponding integer values, 'vals'.\n",
    "\n",
    "```kotlin\n",
    "val random = Random(31)\n",
    "val lab =  listOf(\"A\", \"B\")\n",
    "\n",
    "val vals by columnOf(List(15) { random.nextInt(-30, 30) })\n",
    "val grps by columnOf(List(15) { lab[random.nextInt(0, 2)] })\n",
    "\n",
    "val df = dataFrameOf(vals, grps)\n",
    "```\n",
    "\n",
    "Create a new column 'patched_values' which contains the same values as the 'vals' any negative values in 'vals' with the group mean:\n",
    "\n",
    "```\n",
    "vals    grps    patched_vals\n",
    " -17      B         21.0\n",
    "  -7      B         21.0\n",
    "  28      B         28.0\n",
    "  16      B         16.0\n",
    " -21      B         21.0\n",
    "  19      B         19.0\n",
    "  -2      B         21.0\n",
    " -19      B         21.0\n",
    "  16      A         16.0\n",
    "   9      A         9.0\n",
    " -14      A         16.0\n",
    " -19      A         16.0\n",
    " -22      A         16.0\n",
    "  -1      A         16.0\n",
    "  23      A         23.0\n",
    "```"
   ]
  },
  {
   "metadata": {},
   "cell_type": "code",
   "outputs": [],
   "execution_count": null,
   "source": [
    "val random = Random(31)\n",
    "val lab = listOf(\"A\", \"B\")\n",
    "\n",
    "val vals by columnOf(*Array(15) { random.nextInt(-30, 30) })\n",
    "val grps by columnOf(*Array(15) { lab[random.nextInt(0, 2)] })\n",
    "\n",
    "val df = dataFrameOf(vals, grps)\n",
    "df"
   ]
  },
  {
   "metadata": {},
   "cell_type": "code",
   "outputs": [],
   "execution_count": null,
   "source": [
    "val means = df.filter { vals >= 0 }\n",
    "    .groupBy { grps }.mean()\n",
    "    .pivot { grps }.values { vals }\n",
    "\n",
    "df.add(\"patched_values\") {\n",
    "    if (vals < 0) means[grps] else vals.toDouble()\n",
    "}"
   ]
  },
  {
   "metadata": {},
   "cell_type": "markdown",
   "source": [
    "**30.** Implement a rolling mean over groups with window size 3, which ignores NaN value. For example consider the following DataFrame:\n",
    "```kotlin\n",
    "val group by columnOf(\"a\", \"a\", \"b\", \"b\", \"a\", \"b\", \"b\", \"b\", \"a\", \"b\", \"a\", \"b\")\n",
    "val value by columnOf(1.0, 2.0, 3.0, Double.NaN, 2.0, 3.0, Double.NaN, 1.0, 7.0, 3.0, Double.NaN, 8.0)\n",
    "\n",
    "val df = dataFrameOf(group, value)\n",
    "df\n",
    "\n",
    "group   value\n",
    "a       1.0\n",
    "a       2.0\n",
    "b       3.0\n",
    "b       NaN\n",
    "a       2.0\n",
    "b       3.0\n",
    "b       NaN\n",
    "b       1.0\n",
    "a       7.0\n",
    "b       3.0\n",
    "a       NaN\n",
    "b       8.0\n",
    "```\n",
    "The goal is:\n",
    "```\n",
    "1.000000\n",
    "1.500000\n",
    "3.000000\n",
    "3.000000\n",
    "1.666667\n",
    "3.000000\n",
    "3.000000\n",
    "2.000000\n",
    "3.666667\n",
    "2.000000\n",
    "4.500000\n",
    "4.000000\n",
    "```\n",
    "E.g. the first window of size three for group 'b' has values 3.0, NaN and 3.0 and occurs at row index 5. Instead of being NaN the value in the new column at this row index should be 3.0 (just the two non-NaN values are used to compute the mean (3+3)/2)"
   ]
  },
  {
   "metadata": {},
   "cell_type": "code",
   "outputs": [],
   "execution_count": null,
   "source": [
    "val groups by columnOf(\"a\", \"a\", \"b\", \"b\", \"a\", \"b\", \"b\", \"b\", \"a\", \"b\", \"a\", \"b\")\n",
    "val value by columnOf(1.0, 2.0, 3.0, Double.NaN, 2.0, 3.0, Double.NaN, 1.0, 7.0, 3.0, Double.NaN, 8.0)\n",
    "\n",
    "val df = dataFrameOf(groups, value)\n",
    "df"
   ]
  },
  {
   "metadata": {},
   "cell_type": "code",
   "outputs": [],
   "execution_count": null,
   "source": [
    "df.add(\"id\") { index() }\n",
    "    .groupBy { groups }.add(\"res\") {\n",
    "        relative(-2..0).value.filter { !it.isNaN() }.mean()\n",
    "    }.concat()\n",
    "    .sortBy(\"id\")\n",
    "    .remove(\"id\")"
   ]
  },
  {
   "metadata": {},
   "cell_type": "markdown",
   "source": [
    "## Date\n",
    "Difficulty: easy/medium"
   ]
  },
  {
   "metadata": {},
   "cell_type": "markdown",
   "source": "**31.** Create a column Of LocalDate that contains each day of 2015 and column of random numbers."
  },
  {
   "metadata": {},
   "cell_type": "code",
   "outputs": [],
   "execution_count": null,
   "source": "import kotlinx.datetime.*"
  },
  {
   "metadata": {},
   "cell_type": "code",
   "outputs": [],
   "execution_count": null,
   "source": [
    "class DateRangeIterator(first: LocalDate, last: LocalDate, val step: Int) : Iterator<LocalDate> {\n",
    "    private val finalElement: LocalDate = last\n",
    "    private var hasNext: Boolean = if (step > 0) first <= last else first >= last\n",
    "    private var next: LocalDate = if (hasNext) first else finalElement\n",
    "\n",
    "    override fun hasNext(): Boolean = hasNext\n",
    "\n",
    "    override fun next(): LocalDate {\n",
    "        val value = next\n",
    "        if (value == finalElement) {\n",
    "            if (!hasNext) throw kotlin.NoSuchElementException()\n",
    "            hasNext = false\n",
    "        } else {\n",
    "            next = next.plus(step, DateTimeUnit.DayBased(1))\n",
    "        }\n",
    "        return value\n",
    "    }\n",
    "}\n",
    "\n",
    "operator fun ClosedRange<LocalDate>.iterator() = DateRangeIterator(this.start, this.endInclusive, 1)\n",
    "\n",
    "fun ClosedRange<LocalDate>.toList(): List<LocalDate> {\n",
    "    return when (val size = this.start.daysUntil(this.endInclusive)) {\n",
    "        0 -> emptyList()\n",
    "        1 -> listOf(iterator().next())\n",
    "        else -> {\n",
    "            val dest = ArrayList<LocalDate>(size)\n",
    "            for (item in this) {\n",
    "                dest.add(item)\n",
    "            }\n",
    "            dest\n",
    "        }\n",
    "    }\n",
    "}"
   ]
  },
  {
   "metadata": {},
   "cell_type": "code",
   "outputs": [],
   "execution_count": null,
   "source": [
    "val start = LocalDate(2015, 1, 1)\n",
    "val end = LocalDate(2016, 1, 1)\n",
    "\n",
    "val days = (start..end).toList()\n",
    "\n",
    "val dti = days.toColumn(\"dti\")\n",
    "val s = List(dti.size()) { Random.nextDouble() }.toColumn(\"s\")\n",
    "val df = dataFrameOf(dti, s)\n",
    "df.head()"
   ]
  },
  {
   "metadata": {},
   "cell_type": "markdown",
   "source": "**32.** Find the sum of the values in s for every Wednesday."
  },
  {
   "metadata": {},
   "cell_type": "code",
   "outputs": [],
   "execution_count": null,
   "source": "df.filter { dti.dayOfWeek == DayOfWeek.TUESDAY }.sum { s }"
  },
  {
   "metadata": {},
   "cell_type": "markdown",
   "source": "**33.** For each calendar month in s, find the mean of values."
  },
  {
   "metadata": {},
   "cell_type": "code",
   "outputs": [],
   "execution_count": null,
   "source": "df.groupBy { dti.map { it.month } named \"month\" }.mean()"
  },
  {
   "metadata": {},
   "cell_type": "markdown",
   "source": "**34.** For each group of four consecutive calendar months in s, find the date on which the highest value occurred."
  },
  {
   "metadata": {},
   "cell_type": "code",
   "outputs": [],
   "execution_count": null,
   "source": [
    "df.add(\"month4\") {\n",
    "    when (dti.monthNumber) {\n",
    "        in 1..4 -> 1\n",
    "        in 5..8 -> 2\n",
    "        else -> 3\n",
    "    }\n",
    "}.groupBy(\"month4\").aggregate { maxBy(s) into \"max\" }"
   ]
  },
  {
   "metadata": {},
   "cell_type": "markdown",
   "source": "**35.**  Create a column consisting of the third Thursday in each month for the years 2015 and 2016."
  },
  {
   "metadata": {},
   "cell_type": "code",
   "outputs": [],
   "execution_count": null,
   "source": [
    "import java.time.temporal.WeekFields\n",
    "import java.util.*"
   ]
  },
  {
   "metadata": {},
   "cell_type": "code",
   "outputs": [],
   "execution_count": null,
   "source": [
    "val start = LocalDate(2015, 1, 1)\n",
    "val end = LocalDate(2016, 12, 31)\n",
    "\n",
    "(start..end).toList().toColumn(\"3thu\").filter {\n",
    "    it.toJavaLocalDate()[WeekFields.of(Locale.ENGLISH).weekOfMonth()] == 3\n",
    "            && it.dayOfWeek.value == 4\n",
    "}"
   ]
  },
  {
   "metadata": {},
   "cell_type": "markdown",
   "source": [
    "## Cleaning Data\n",
    "### Making a DataFrame easier to work with\n",
    "Difficulty: *easy/medium*\n",
    "\n",
    "It happens all the time: someone gives you data containing malformed strings, lists and missing data. How do you tidy it up so you can get on with the analysis?\n",
    "\n",
    "Take this monstrosity as the DataFrame to use in the following puzzles:\n",
    "```kotlin\n",
    "val fromTo = listOf(\"LoNDon_paris\", \"MAdrid_miLAN\", \"londON_StockhOlm\", \"Budapest_PaRis\", \"Brussels_londOn\").toColumn(\"From_To\")\n",
    "val flightNumber = listOf(10045.0, Double.NaN, 10065.0, Double.NaN, 10085.0).toColumn(\"FlightNumber\")\n",
    "val recentDelays = listOf(listOf(23, 47), listOf(), listOf(24, 43, 87), listOf(13), listOf(67, 32)).toColumn(\"RecentDelays\")\n",
    "val airline = listOf(\"KLM(!)\", \"<Air France> (12)\", \"(British Airways. )\", \"12. Air France\", \"'Swiss Air'\").toColumn(\"Airline\")\n",
    "\n",
    "val df = dataFrameOf(fromTo, flightNumber, recentDelays, airline)\n",
    "```\n",
    "\n",
    "It looks like this:\n",
    "```\n",
    "From_To             FlightNumber    RecentDelays    Airline\n",
    "LoNDon_paris        10045.000000    [23, 47]        KLM(!)\n",
    "MAdrid_miLAN        NaN             []              {Air France} (12)\n",
    "londON_StockhOlm    10065.000000    [24, 43, 87]    (British Airways. )\n",
    "Budapest_PaRis      NaN             [13]            12. Air France\n",
    "Brussels_londOn     10085.000000    [67, 32]        'Swiss Air'\n",
    "```"
   ]
  },
  {
   "metadata": {},
   "cell_type": "code",
   "outputs": [],
   "execution_count": null,
   "source": [
    "val fromTo = listOf(\"LoNDon_paris\", \"MAdrid_miLAN\", \"londON_StockhOlm\", \"Budapest_PaRis\", \"Brussels_londOn\").toColumn(\"From_To\")\n",
    "val flightNumber = listOf(10045.0, Double.NaN, 10065.0, Double.NaN, 10085.0).toColumn(\"FlightNumber\")\n",
    "val recentDelays = listOf(listOf(23, 47), listOf(), listOf(24, 43, 87), listOf(13), listOf(67, 32)).toColumn(\"RecentDelays\")\n",
    "val airline = listOf(\"KLM(!)\", \"{Air France} (12)\", \"(British Airways. )\", \"12. Air France\", \"'Swiss Air'\").toColumn(\"Airline\")\n",
    "\n",
    "var df = dataFrameOf(fromTo, flightNumber, recentDelays, airline)\n",
    "df"
   ]
  },
  {
   "metadata": {},
   "cell_type": "markdown",
   "source": "**36.** Some values in the FlightNumber column are missing (they are NaN). These numbers are meant to increase by 10 with each row, so 10055 and 10075 need to be put in place. Modify df to fill in these missing numbers and make the column an integer column (instead of a float column)."
  },
  {
   "metadata": {},
   "cell_type": "code",
   "outputs": [],
   "execution_count": null,
   "source": [
    "df = df.fillNaNs { FlightNumber }\n",
    "    .with { prev()!!.FlightNumber + (next()!!.FlightNumber - prev()!!.FlightNumber) / 2 }\n",
    "    .convert { FlightNumber }.toInt()\n",
    "df"
   ]
  },
  {
   "metadata": {},
   "cell_type": "markdown",
   "source": "**37.** The **From_To** column would be better as two separate columns! Split each string on the underscore delimiter **_** to give a new two columns. Assign the correct names 'From' and 'To' to this columns."
  },
  {
   "metadata": {},
   "cell_type": "code",
   "outputs": [],
   "execution_count": null,
   "source": [
    "var df2 = df.split { From_To }.by(\"_\").into(\"From\", \"To\")\n",
    "df2"
   ]
  },
  {
   "metadata": {},
   "cell_type": "markdown",
   "source": "**38.** Notice how the capitalisation of the city names is all mixed up in this temporary DataFrame 'temp'. Standardise the strings so that only the first letter is uppercase (e.g. \"londON\" should become \"London\".)"
  },
  {
   "metadata": {},
   "cell_type": "code",
   "outputs": [],
   "execution_count": null,
   "source": [
    "df2 = df2.update { From and To }.with { it.lowercase().replaceFirstChar(Char::uppercase) }\n",
    "df2"
   ]
  },
  {
   "metadata": {},
   "cell_type": "markdown",
   "source": "**39.** In the **Airline** column, you can see some extra punctuation and symbols have appeared around the airline names. Pull out just the airline name. E.g. `'(British Airways. )'` should become `'British Airways'`."
  },
  {
   "metadata": {},
   "cell_type": "code",
   "outputs": [],
   "execution_count": null,
   "source": [
    "df2 = df2.update { Airline }.with {\n",
    "    \"([a-zA-Z\\\\s]+)\".toRegex().find(it)?.value ?: \"\"\n",
    "}\n",
    "df2"
   ]
  },
  {
   "metadata": {},
   "cell_type": "markdown",
   "source": [
    "**40.** In the **RecentDelays** column, the values have been entered into the DataFrame as a list. We would like each first value in its own column, each second value in its own column, and so on. If there isn't an Nth value, the value should be `null`.\n",
    "\n",
    "Expand the column of lists into columns named 'delays_' and replace the unwanted RecentDelays column in `df` with 'delays'."
   ]
  },
  {
   "metadata": {},
   "cell_type": "code",
   "outputs": [],
   "execution_count": null,
   "source": [
    "val prep_df = df2.split { RecentDelays }.into { \"delay_$it\" }\n",
    "prep_df"
   ]
  },
  {
   "metadata": {},
   "cell_type": "markdown",
   "source": "The DataFrame looks much better now!\n"
  }
 ],
 "metadata": {
  "kernelspec": {
   "display_name": "Kotlin",
   "language": "kotlin",
   "name": "kotlin"
  },
  "language_info": {
   "codemirror_mode": "text/x-kotlin",
   "file_extension": ".kt",
   "mimetype": "text/x-kotlin",
   "name": "kotlin",
   "nbconvert_exporter": "",
   "pygments_lexer": "kotlin",
   "version": "1.8.0-dev-707"
  },
  "ktnbPluginMetadata": {
   "projectLibraries": false
  }
 },
 "nbformat": 4,
 "nbformat_minor": 1
}
