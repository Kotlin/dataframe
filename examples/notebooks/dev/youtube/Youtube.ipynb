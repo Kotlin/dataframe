{
 "cells": [
  {
   "metadata": {},
   "cell_type": "code",
   "outputs": [],
   "execution_count": null,
   "source": "%use dataframe"
  },
  {
   "metadata": {},
   "cell_type": "markdown",
   "source": [
    "This example uses the YouTube Data API: [https://developers.google.com/youtube/v3/docs](https://developers.google.com/youtube/v3/docs).\n",
    "Follow the tutorials over there to gain an API key."
   ]
  },
  {
   "metadata": {},
   "cell_type": "code",
   "outputs": [],
   "execution_count": null,
   "source": "val apiKey = System.getenv(\"YOUTUBE_API_KEY\")"
  },
  {
   "metadata": {},
   "cell_type": "code",
   "outputs": [],
   "execution_count": null,
   "source": "fun load(path: String): AnyRow = DataRow.read(\"https://www.googleapis.com/youtube/v3/$path&key=$apiKey\")"
  },
  {
   "metadata": {},
   "cell_type": "code",
   "outputs": [],
   "execution_count": null,
   "source": [
    "fun load(path: String, maxPages: Int): AnyFrame {\n",
    "    val rows = mutableListOf<AnyRow>()\n",
    "    var pagePath = path\n",
    "    do {\n",
    "        val row = load(pagePath)\n",
    "        rows.add(row)\n",
    "        val next = row.getValueOrNull<String>(\"nextPageToken\")\n",
    "        pagePath = path + \"&pageToken=\" + next\n",
    "    } while (next != null && rows.size < maxPages)\n",
    "    return rows.concat()\n",
    "}"
   ]
  },
  {
   "metadata": {},
   "cell_type": "code",
   "outputs": [],
   "execution_count": null,
   "source": [
    "val df = load(\"search?q=cute%20cats&maxResults=50&part=snippet\", 5)\n",
    "df"
   ]
  },
  {
   "metadata": {},
   "cell_type": "code",
   "outputs": [],
   "execution_count": null,
   "source": [
    "val items = df.items.concat()\n",
    "items"
   ]
  },
  {
   "metadata": {},
   "cell_type": "code",
   "outputs": [],
   "execution_count": null,
   "source": [
    "val videos = items.dropNulls { id.videoId }\n",
    "    .select { id.videoId named \"id\" and snippet }\n",
    "    .distinct()\n",
    "videos"
   ]
  },
  {
   "metadata": {},
   "cell_type": "code",
   "outputs": [],
   "execution_count": null,
   "source": "val parsed = videos.parse()"
  },
  {
   "metadata": {},
   "cell_type": "code",
   "outputs": [],
   "execution_count": null,
   "source": [
    "val loaded = parsed.convert { colsAtAnyDepth().colsOf<URL>() }.with { IMG(it, maxHeight = 150) }\n",
    "    .add(\"video\") { IFRAME(\"https://www.youtube.com/embed/$id\") }"
   ]
  },
  {
   "metadata": {},
   "cell_type": "markdown",
   "source": "NOTE: For this example, the DataFrame needs to be rendered as HTML. This means that when running in Kotlin Notebook, \"Render DataFrame tables natively\" needs to be turned off."
  },
  {
   "metadata": {},
   "cell_type": "code",
   "outputs": [],
   "execution_count": null,
   "source": [
    "val clean = loaded.move { snippet.channelId and snippet.channelTitle }.under(\"channel\")\n",
    "    .move { snippet.title and snippet.publishedAt }.toTop()\n",
    "    .remove { snippet }\n",
    "clean"
   ]
  },
  {
   "metadata": {},
   "cell_type": "code",
   "outputs": [],
   "execution_count": null,
   "source": [
    "val statPages = clean.id.chunked(50).map {\n",
    "    val ids = it.joinToString(\"%2C\")\n",
    "    load(\"videos?part=statistics&id=$ids\")\n",
    "}\n",
    "statPages"
   ]
  },
  {
   "metadata": {},
   "cell_type": "code",
   "outputs": [],
   "execution_count": null,
   "source": [
    "val stats = statPages.items.concat().select { id and statistics.allCols() }.parse()\n",
    "stats"
   ]
  },
  {
   "metadata": {},
   "cell_type": "code",
   "outputs": [],
   "execution_count": null,
   "source": [
    "val joined = clean.join(stats)\n",
    "joined"
   ]
  },
  {
   "metadata": {},
   "cell_type": "code",
   "outputs": [],
   "execution_count": null,
   "source": [
    "val view by column<Int>()\n",
    "\n",
    "val channels = joined.groupBy { channel }.sortByCount().aggregate {\n",
    "    viewCount.sum() into view\n",
    "\n",
    "    val last = maxBy { publishedAt }\n",
    "    last.title into \"last title\"\n",
    "    last.publishedAt into \"time\"\n",
    "    last.viewCount into \"viewCount\"\n",
    "}.sortByDesc(view).flatten()\n",
    "channels"
   ]
  },
  {
   "metadata": {},
   "cell_type": "code",
   "outputs": [],
   "execution_count": null,
   "source": [
    "%useLatestDescriptors\n",
    "%use kandy"
   ]
  },
  {
   "metadata": {},
   "cell_type": "code",
   "outputs": [],
   "execution_count": null,
   "source": [
    "channels.sortBy { viewCount.desc() }.plot {\n",
    "    bars {\n",
    "        x(channelTitle.map { it.take(10) })\n",
    "        y(viewCount)\n",
    "    }\n",
    "}"
   ]
  },
  {
   "metadata": {},
   "cell_type": "code",
   "outputs": [],
   "execution_count": null,
   "source": [
    "val growth = joined\n",
    "    .select { publishedAt and viewCount }\n",
    "    .sortBy { publishedAt }\n",
    "    .convert { all() }.toLong()\n",
    "    .cumSum { viewCount }"
   ]
  },
  {
   "metadata": {},
   "cell_type": "code",
   "outputs": [],
   "execution_count": null,
   "source": [
    "growth.plot {\n",
    "    area {\n",
    "        x(publishedAt)\n",
    "        y(viewCount)\n",
    "    }\n",
    "}"
   ]
  }
 ],
 "metadata": {
  "kernelspec": {
   "display_name": "Kotlin",
   "language": "kotlin",
   "name": "kotlin"
  },
  "language_info": {
   "codemirror_mode": "text/x-kotlin",
   "file_extension": ".kt",
   "mimetype": "text/x-kotlin",
   "name": "kotlin",
   "nbconvert_exporter": "",
   "pygments_lexer": "kotlin",
   "version": "1.8.20-Beta"
  },
  "ktnbPluginMetadata": {
   "projectLibraries": []
  }
 },
 "nbformat": 4,
 "nbformat_minor": 4
}
